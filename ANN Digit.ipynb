{
 "cells": [
  {
   "cell_type": "code",
   "execution_count": 8,
   "id": "41adc0dc-050a-4757-88f8-28962deb9293",
   "metadata": {},
   "outputs": [],
   "source": [
    "# Basic Libraries\n",
    "import numpy as np\n",
    "import pandas as pd\n",
    "\n",
    "# Visualization Libraries\n",
    "import matplotlib.pyplot as plt\n",
    "import seaborn as sns\n",
    "\n",
    "# Evaluation Libraries\n",
    "from sklearn.metrics import confusion_matrix, accuracy_score\n",
    "from sklearn.model_selection import GridSearchCV\n",
    "\n",
    "# Deep Learning Libraries\n",
    "import tensorflow as tf\n",
    "from tensorflow import keras\n",
    "from tensorflow.keras import layers, models\n",
    "from tensorflow.keras.models import Sequential\n",
    "from tensorflow.keras.layers import Dense, Activation, Dropout\n",
    "from tensorflow.keras.datasets import mnist\n",
    "from tensorflow.keras.utils import to_categorical\n",
    "from scikeras.wrappers import KerasClassifier\n",
    "from tensorflow.keras.datasets import mnist\n",
    "\n",
    "orig=mnist\n",
    "# Set a random seed for reproducibility\n",
    "np.random.seed(42)\n",
    "tf.random.set_seed(42)\n",
    "#✅ Why Set a Random Seed?\n",
    "#Ensures Consistent Results – Running the same code multiple times will produce the same output.\n",
    "\n",
    "#Helps Debugging – Makes it easier to trace issues when results are consistent.\n",
    "\n",
    "#Standard Practice in ML/DL – Especially when using random initializations (e.g., weight initialization in neural networks)."
   ]
  },
  {
   "cell_type": "code",
   "execution_count": null,
   "id": "cd74fbb4-c5b7-47af-a746-c4e293279d86",
   "metadata": {},
   "outputs": [],
   "source": [
    "#Digit MNIST dataset"
   ]
  },
  {
   "cell_type": "code",
   "execution_count": 9,
   "id": "f6f19ef9-179e-4de7-ad8b-2a71d800adfc",
   "metadata": {},
   "outputs": [
    {
     "name": "stdout",
     "output_type": "stream",
     "text": [
      "Downloading data from https://storage.googleapis.com/tensorflow/tf-keras-datasets/mnist.npz\n",
      "\u001b[1m11490434/11490434\u001b[0m \u001b[32m━━━━━━━━━━━━━━━━━━━━\u001b[0m\u001b[37m\u001b[0m \u001b[1m25s\u001b[0m 2us/step\n"
     ]
    }
   ],
   "source": [
    "\n",
    "(X_train_digit, y_train_digit), (X_test_digit, y_test_digit) = mnist.load_data()\n"
   ]
  },
  {
   "cell_type": "code",
   "execution_count": 10,
   "id": "75e44a81-eed2-4298-9721-c75e005bc5b0",
   "metadata": {},
   "outputs": [
    {
     "name": "stdout",
     "output_type": "stream",
     "text": [
      "(60000, 28, 28)\n",
      "(60000,)\n",
      "(10000, 28, 28)\n",
      "(10000,)\n"
     ]
    }
   ],
   "source": [
    "print(X_train_digit.shape)  \n",
    "print(y_train_digit.shape)  \n",
    "print(X_test_digit.shape)  \n",
    "print(y_test_digit.shape)   \n"
   ]
  },
  {
   "cell_type": "code",
   "execution_count": null,
   "id": "cf8a7706-a791-4634-9e75-4ee7bddfaf32",
   "metadata": {},
   "outputs": [],
   "source": []
  }
 ],
 "metadata": {
  "kernelspec": {
   "display_name": "Python 3 (ipykernel)",
   "language": "python",
   "name": "python3"
  },
  "language_info": {
   "codemirror_mode": {
    "name": "ipython",
    "version": 3
   },
   "file_extension": ".py",
   "mimetype": "text/x-python",
   "name": "python",
   "nbconvert_exporter": "python",
   "pygments_lexer": "ipython3",
   "version": "3.12.7"
  }
 },
 "nbformat": 4,
 "nbformat_minor": 5
}
