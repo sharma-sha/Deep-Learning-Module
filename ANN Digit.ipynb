{
 "cells": [
  {
   "cell_type": "code",
   "execution_count": 1,
   "id": "41adc0dc-050a-4757-88f8-28962deb9293",
   "metadata": {},
   "outputs": [],
   "source": [
    "# Basic Libraries\n",
    "import numpy as np\n",
    "import pandas as pd\n",
    "\n",
    "# Visualization Libraries\n",
    "import matplotlib.pyplot as plt\n",
    "import seaborn as sns\n",
    "\n",
    "# Evaluation Libraries\n",
    "from sklearn.metrics import confusion_matrix, accuracy_score\n",
    "from sklearn.model_selection import GridSearchCV\n",
    "\n",
    "# Deep Learning Libraries\n",
    "import tensorflow as tf\n",
    "from tensorflow import keras\n",
    "from tensorflow.keras import layers, models\n",
    "from tensorflow.keras.models import Sequential\n",
    "from tensorflow.keras.layers import Dense, Activation, Dropout\n",
    "from tensorflow.keras.datasets import mnist\n",
    "from tensorflow.keras.utils import to_categorical\n",
    "from scikeras.wrappers import KerasClassifier\n",
    "from tensorflow.keras.datasets import mnist\n",
    "\n",
    "orig=mnist\n",
    "# Set a random seed for reproducibility\n",
    "np.random.seed(42)\n",
    "tf.random.set_seed(42)\n",
    "#✅ Why Set a Random Seed?\n",
    "#Ensures Consistent Results – Running the same code multiple times will produce the same output.\n",
    "\n",
    "#Helps Debugging – Makes it easier to trace issues when results are consistent.\n",
    "\n",
    "#Standard Practice in ML/DL – Especially when using random initializations (e.g., weight initialization in neural networks)."
   ]
  },
  {
   "cell_type": "code",
   "execution_count": 2,
   "id": "cd74fbb4-c5b7-47af-a746-c4e293279d86",
   "metadata": {},
   "outputs": [],
   "source": [
    "#Digit MNIST dataset"
   ]
  },
  {
   "cell_type": "code",
   "execution_count": 3,
   "id": "f6f19ef9-179e-4de7-ad8b-2a71d800adfc",
   "metadata": {},
   "outputs": [],
   "source": [
    "(X_train_digit, y_train_digit), (X_test_digit, y_test_digit) = mnist.load_data()"
   ]
  },
  {
   "cell_type": "code",
   "execution_count": 4,
   "id": "75e44a81-eed2-4298-9721-c75e005bc5b0",
   "metadata": {},
   "outputs": [
    {
     "name": "stdout",
     "output_type": "stream",
     "text": [
      "(60000, 28, 28)\n",
      "(60000,)\n",
      "(10000, 28, 28)\n",
      "(10000,)\n"
     ]
    }
   ],
   "source": [
    "print(X_train_digit.shape)  \n",
    "print(y_train_digit.shape)  \n",
    "print(X_test_digit.shape)  \n",
    "print(y_test_digit.shape)   \n"
   ]
  },
  {
   "cell_type": "code",
   "execution_count": null,
   "id": "cf8a7706-a791-4634-9e75-4ee7bddfaf32",
   "metadata": {},
   "outputs": [],
   "source": [
    "#Images (X) are 28x28 grayscale pixels.\n",
    "#Labels (y) are the digit class (0-9).\n",
    "#There are 60,000 training images and 10,000 test images."
   ]
  },
  {
   "cell_type": "code",
   "execution_count": null,
   "id": "b1c4e9ef-3e5c-42c0-b798-e163f9068598",
   "metadata": {},
   "outputs": [],
   "source": [
    "You are accessing the 4th label"
   ]
  },
  {
   "cell_type": "code",
   "execution_count": null,
   "id": "20fa6887-f28c-46b0-9623-c9e76624b2f4",
   "metadata": {},
   "outputs": [],
   "source": []
  },
  {
   "cell_type": "code",
   "execution_count": null,
   "id": "28ea8bbf-79e8-485a-ad65-dd2331eb47df",
   "metadata": {},
   "outputs": [],
   "source": []
  },
  {
   "cell_type": "code",
   "execution_count": null,
   "id": "b3c24341-18c8-432b-9c6c-8980c0b667b4",
   "metadata": {},
   "outputs": [],
   "source": []
  }
 ],
 "metadata": {
  "kernelspec": {
   "display_name": "Python 3 (ipykernel)",
   "language": "python",
   "name": "python3"
  },
  "language_info": {
   "codemirror_mode": {
    "name": "ipython",
    "version": 3
   },
   "file_extension": ".py",
   "mimetype": "text/x-python",
   "name": "python",
   "nbconvert_exporter": "python",
   "pygments_lexer": "ipython3",
   "version": "3.12.7"
  }
 },
 "nbformat": 4,
 "nbformat_minor": 5
}
