{
 "cells": [
  {
   "cell_type": "code",
   "execution_count": 1,
   "id": "a9396d2b-6aa4-438d-9aca-317ae054ce47",
   "metadata": {},
   "outputs": [],
   "source": [
    "from keras.applications.xception import Xception, preprocess_input\n",
    "from keras.preprocessing import image\n",
    "import numpy as np\n",
    "import cv2\n",
    "import os"
   ]
  },
  {
   "cell_type": "code",
   "execution_count": 2,
   "id": "f97c752d-01c7-4051-a70c-2b4e62d9bc0b",
   "metadata": {},
   "outputs": [],
   "source": [
    "# Load model (without top layer)\n",
    "model = Xception(weights='imagenet', include_top=False, pooling='avg')\n",
    "\n",
    "def extract_frames(video_path, max_frames=10):\n",
    "    cap = cv2.VideoCapture(video_path)\n",
    "    frames = []\n",
    "    count = 0\n",
    "    while cap.isOpened() and count < max_frames:\n",
    "        ret, frame = cap.read()\n",
    "        if not ret:\n",
    "            break\n",
    "        # Resize + convert to array\n",
    "        frame = cv2.resize(frame, (299, 299))\n",
    "        img_array = image.img_to_array(frame)\n",
    "        img_array = preprocess_input(img_array)\n",
    "        frames.append(img_array)\n",
    "        count += 1\n",
    "    cap.release()\n",
    "    return np.array(frames)\n"
   ]
  },
  {
   "cell_type": "code",
   "execution_count": 3,
   "id": "1ac07f04-c939-4a64-b57f-763b9de4a24f",
   "metadata": {},
   "outputs": [],
   "source": [
    "def is_deepfake(video_path):\n",
    "    frames = extract_frames(video_path)\n",
    "    if len(frames) == 0:\n",
    "        return \"Invalid or corrupted video\"\n",
    "\n",
    "    # Extract features using Xception\n",
    "    features = model.predict(frames, verbose=0)\n",
    "    avg_feature = np.mean(features, axis=0)\n",
    "\n",
    "    # Dummy classifier: If average feature value > threshold → Fake\n",
    "    # (In real-world, train an actual classifier like SVM or NN)\n",
    "    fake_score = np.mean(avg_feature)\n",
    "    print(f\"Fake Score: {fake_score:.4f}\")\n",
    "    return \"FAKE\" if fake_score > 0.55 else \"REAL\""
   ]
  },
  {
   "cell_type": "code",
   "execution_count": 4,
   "id": "4c2211d9-76f1-4e75-8988-2a78ac4a6416",
   "metadata": {},
   "outputs": [
    {
     "name": "stdout",
     "output_type": "stream",
     "text": [
      "Fake Score: 0.1594\n",
      "Prediction: REAL\n"
     ]
    }
   ],
   "source": [
    "video_path = 'sample_video.mp4'\n",
    "result = is_deepfake(video_path)\n",
    "print(\"Prediction:\", result)\n"
   ]
  },
  {
   "cell_type": "code",
   "execution_count": null,
   "id": "c99fde61-18ab-4975-9d32-d39d9f1439d9",
   "metadata": {},
   "outputs": [],
   "source": []
  }
 ],
 "metadata": {
  "kernelspec": {
   "display_name": "Python 3 (ipykernel)",
   "language": "python",
   "name": "python3"
  },
  "language_info": {
   "codemirror_mode": {
    "name": "ipython",
    "version": 3
   },
   "file_extension": ".py",
   "mimetype": "text/x-python",
   "name": "python",
   "nbconvert_exporter": "python",
   "pygments_lexer": "ipython3",
   "version": "3.12.7"
  }
 },
 "nbformat": 4,
 "nbformat_minor": 5
}
