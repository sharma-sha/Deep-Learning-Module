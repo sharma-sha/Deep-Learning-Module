{
 "cells": [
  {
   "cell_type": "code",
   "execution_count": 1,
   "id": "739211ef-5a23-47aa-87b2-3f71ffe0a875",
   "metadata": {},
   "outputs": [],
   "source": [
    "import cv2\n",
    "import numpy as np\n",
    "\n",
    "# Load image\n",
    "image = cv2.imread('copy_1.jpg')\n",
    "\n",
    "# Resize image\n",
    "resized = cv2.resize(image, (400, 400))\n",
    "\n",
    "# Crop image (top-left 200x200 area)\n",
    "cropped = resized[0:200, 0:200]\n",
    "\n",
    "# Adjust brightness and contrast\n",
    "alpha = 1.2  # Contrast control (1.0-3.0)\n",
    "beta = 30    # Brightness control (0-100)\n",
    "bright_contrast = cv2.convertScaleAbs(resized, alpha=alpha, beta=beta)\n",
    "\n",
    "# Sharpening\n",
    "kernel = np.array([[0, -1, 0],\n",
    "                   [-1, 5,-1],\n",
    "                   [0, -1, 0]])\n",
    "sharpened = cv2.filter2D(resized, -1, kernel)\n",
    "\n",
    "# Show images\n",
    "cv2.imshow(\"Original\", image)\n",
    "\n"
   ]
  },
  {
   "cell_type": "code",
   "execution_count": 2,
   "id": "cd1649f9-9350-4055-9fd4-ce2dfe98fc06",
   "metadata": {},
   "outputs": [],
   "source": [
    "cv2.imshow(\"Resized\", resized)\n"
   ]
  },
  {
   "cell_type": "code",
   "execution_count": 3,
   "id": "8f2edda3-dedf-4985-8c06-da734eab5874",
   "metadata": {},
   "outputs": [],
   "source": [
    "cv2.imshow(\"Cropped\", cropped)\n"
   ]
  },
  {
   "cell_type": "code",
   "execution_count": null,
   "id": "eb8b797a-7b4e-4f47-bcdd-328e6a206c71",
   "metadata": {},
   "outputs": [],
   "source": [
    "cv2.imshow(\"Bright + Contrast\", bright_contrast)\n",
    "cv2.imshow(\"Sharpened\", sharpened)\n",
    "\n",
    "cv2.waitKey(0)\n",
    "cv2.destroyAllWindows()"
   ]
  },
  {
   "cell_type": "code",
   "execution_count": null,
   "id": "b5f60062-3325-4a6a-b08e-5350be9b397c",
   "metadata": {},
   "outputs": [],
   "source": [
    "cv2.imshow(\"Sharpened\", sharpened)\n",
    "\n"
   ]
  },
  {
   "cell_type": "code",
   "execution_count": null,
   "id": "456780eb-f2dd-4282-bd2a-02bf1bcf2501",
   "metadata": {},
   "outputs": [],
   "source": [
    "cv2.waitKey(0)\n",
    "cv2.destroyAllWindows()"
   ]
  }
 ],
 "metadata": {
  "kernelspec": {
   "display_name": "Python 3 (ipykernel)",
   "language": "python",
   "name": "python3"
  },
  "language_info": {
   "codemirror_mode": {
    "name": "ipython",
    "version": 3
   },
   "file_extension": ".py",
   "mimetype": "text/x-python",
   "name": "python",
   "nbconvert_exporter": "python",
   "pygments_lexer": "ipython3",
   "version": "3.12.7"
  }
 },
 "nbformat": 4,
 "nbformat_minor": 5
}
